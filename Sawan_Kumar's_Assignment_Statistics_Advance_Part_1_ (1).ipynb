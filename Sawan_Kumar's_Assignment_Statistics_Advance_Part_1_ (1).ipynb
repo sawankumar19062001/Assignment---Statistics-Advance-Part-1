{
  "nbformat": 4,
  "nbformat_minor": 0,
  "metadata": {
    "colab": {
      "provenance": []
    },
    "kernelspec": {
      "name": "python3",
      "display_name": "Python 3"
    },
    "language_info": {
      "name": "python"
    }
  },
  "cells": [
    {
      "cell_type": "code",
      "execution_count": null,
      "metadata": {
        "id": "yeHJpkOCWXUg"
      },
      "outputs": [],
      "source": [
        "# Name - SAWAN KUMAR\n",
        "# Email ID - sawankumar19062001@gmail.com\n",
        "# Contact Number - 8882022191\n",
        "# Course - Data Science With Generative AI\n",
        "# Assignment - Statistics Advance Part 1\n",
        "# Module - 2 (Milestone -2 (Statistics))\n",
        "\n",
        "\n",
        "\n",
        "\n",
        "\n",
        "# Theory Question"
      ]
    },
    {
      "cell_type": "markdown",
      "source": [
        "# 1. What is a random variable in probability theory ?\n",
        ">* A random variable is a variable whose value is a numerical outcome of a random phenomenon."
      ],
      "metadata": {
        "id": "17UmZ8AzSZl4"
      }
    },
    {
      "cell_type": "markdown",
      "source": [
        "# 2. What are the types of random variables ?\n",
        ">* The types of random variables are\n",
        ">>* discrete and\n",
        ">>* continuous."
      ],
      "metadata": {
        "id": "Y0L_gc4NShQN"
      }
    },
    {
      "cell_type": "markdown",
      "source": [
        "# 3. What is the difference between discrete and continuous distributions ?\n",
        ">* Discrete distributions involve variables that can only take on a finite or countable number of values, while\n",
        "\n",
        ">* Continuous distributions involve variables that can take on any value within a given range."
      ],
      "metadata": {
        "id": "j0cglpMqSiwP"
      }
    },
    {
      "cell_type": "markdown",
      "source": [
        "# 4. What are probability distribution functions (PDF) ?\n",
        ">* Probability distribution functions (PDF) describe the likelihood of a continuous random variable taking on a specific value."
      ],
      "metadata": {
        "id": "2J4OfpjrSlgS"
      }
    },
    {
      "cell_type": "markdown",
      "source": [
        "# 5. How do cumulative distribution functions (CDF) differ from probability distribution functions (PDF) ?\n",
        ">* CDFs give the probability that a random variable is less than or equal to a certain value, while\n",
        "\n",
        ">* PDFs give the probability of a random variable taking on a specific value."
      ],
      "metadata": {
        "id": "NaQk5k-PSoNw"
      }
    },
    {
      "cell_type": "markdown",
      "source": [
        "# 6. What is a discrete uniform distribution ?\n",
        ">* A discrete uniform distribution is a probability distribution where each possible value of a discrete random variable has an equal probability."
      ],
      "metadata": {
        "id": "5h0s9eI7SqFN"
      }
    },
    {
      "cell_type": "markdown",
      "source": [
        "# 7. What are the key properties of a Bernoulli distribution ?\n",
        ">* The Bernoulli distribution has two possible outcomes (usually called \"success\" and \"failure\"), and it models a single trial."
      ],
      "metadata": {
        "id": "wjqUMv5PSryx"
      }
    },
    {
      "cell_type": "markdown",
      "source": [
        "# 8. What is the binomial distribution, and how is it used in probability ?\n",
        ">* The binomial distribution models the number of successes in a fixed number of independent Bernoulli trials.  \n",
        ">>* It's used to calculate probabilities of events occurring a certain number of times."
      ],
      "metadata": {
        "id": "Q6Qt_IvOStMJ"
      }
    },
    {
      "cell_type": "markdown",
      "source": [
        "# 9. What is the Poisson distribution and where is it applied ?\n",
        ">* The Poisson distribution models the probability of a given number of events occurring in a fixed interval of time or space.  \n",
        ">>* It is applied in situations like counting the number of phone calls received in a call center per hour."
      ],
      "metadata": {
        "id": "TOVH6cCrSuNZ"
      }
    },
    {
      "cell_type": "markdown",
      "source": [
        "# 10. What is a continuous uniform distribution ?\n",
        ">* A continuous uniform distribution is a probability distribution where all values within a given interval have equal probability."
      ],
      "metadata": {
        "id": "YCwCyw1USxET"
      }
    },
    {
      "cell_type": "markdown",
      "source": [
        "# 11. What are the characteristics of a normal distribution ?\n",
        ">* The normal distribution is\n",
        ">>* bell-shaped,\n",
        ">>* symmetric, and\n",
        ">>* characterized by its mean and standard deviation.  "
      ],
      "metadata": {
        "id": "pkKTmHl1Sy0x"
      }
    },
    {
      "cell_type": "markdown",
      "source": [
        "# 12. What is the standard normal distribution, and why is it important ?\n",
        ">* The standard normal distribution is a normal distribution with a mean of 0 and a standard deviation of 1.  \n",
        ">>* It is important because any normal distribution can be transformed into it, allowing for easier probability calculations."
      ],
      "metadata": {
        "id": "6TbJJSl-S0T9"
      }
    },
    {
      "cell_type": "markdown",
      "source": [
        "# 13. What is the Central Limit Theorem (CLT), and why is it critical in statistics ?\n",
        ">* The Central Limit Theorem (CLT) states that the distribution of the sum or average of a large number of independent, identically distributed random variables approaches a normal distribution, regardless of the original distribution's shape.  \n",
        ">>* It's critical because it allows us to make inferences about population parameters using sample statistics."
      ],
      "metadata": {
        "id": "vkNXiEJAS1qX"
      }
    },
    {
      "cell_type": "markdown",
      "source": [
        "# 14. How does the Central Limit Theorem relate to the normal distribution ?\n",
        ">* The CLT shows that the sampling distribution of the mean approaches a normal distribution as the sample size increases."
      ],
      "metadata": {
        "id": "BmQdFKKLS3XK"
      }
    },
    {
      "cell_type": "markdown",
      "source": [
        "# 15. What is the application of Z statistics in hypothesis testing ?\n",
        ">* Z statistics are used in hypothesis testing to determine if a sample mean is significantly different from a population mean when the population standard deviation is known."
      ],
      "metadata": {
        "id": "-yCEhBLoS46N"
      }
    },
    {
      "cell_type": "markdown",
      "source": [
        "# 16. How do you calculate a Z-score, and what does it represent ?\n",
        ">* A Z-score is calculated by subtracting the population mean from the sample mean and dividing by the population standard deviation.\n",
        ">>* It represents how many standard deviations a data point is from the mean."
      ],
      "metadata": {
        "id": "2kGNnNphS6oA"
      }
    },
    {
      "cell_type": "markdown",
      "source": [
        "# 17. What are point estimates and interval estimates in statistics ?\n",
        ">* A point estimate is a single value used to estimate a population parameter, while an\n",
        "\n",
        ">* Interval estimate provides a range of values within which the population parameter is likely to fall."
      ],
      "metadata": {
        "id": "vXTLm9ZAS8BW"
      }
    },
    {
      "cell_type": "markdown",
      "source": [
        "# 18. What is the significance of confidence intervals in statistical analysis ?\n",
        ">* Confidence intervals provide a range of plausible values for a population parameter, giving a measure of the uncertainty associated with the estimate."
      ],
      "metadata": {
        "id": "DNi1dI5xS9bd"
      }
    },
    {
      "cell_type": "markdown",
      "source": [
        "# 19. What is the relationship between a Z-score and a confidence interval ?\n",
        ">* Z-scores are used to calculate confidence intervals for population means when the population standard deviation is known."
      ],
      "metadata": {
        "id": "Rc6dNzxUUiSA"
      }
    },
    {
      "cell_type": "markdown",
      "source": [
        "# 20. How are Z-scores used to compare different distributions ?\n",
        ">* Z-scores standardize data, allowing for comparison of data points from different normal distributions."
      ],
      "metadata": {
        "id": "TjEQaJirUnB8"
      }
    },
    {
      "cell_type": "markdown",
      "source": [
        "# 21. What are the assumptions for applying the Central Limit Theorem ?\n",
        ">* Assumptions include independence of samples, a sufficiently large sample size (generally n ≥ 30), and identically distributed random variables."
      ],
      "metadata": {
        "id": "PzMuHgBHUo0S"
      }
    },
    {
      "cell_type": "markdown",
      "source": [
        "# 22. What is the concept of expected value in a probability distribution ?\n",
        ">* The expected value is the average value of a random variable over many trials.  It's the weighted average of all possible values, weighted by their probabilities."
      ],
      "metadata": {
        "id": "V8mGw-BmUrdr"
      }
    },
    {
      "cell_type": "markdown",
      "source": [
        "# 23. How does a probability distribution relate to the expected outcome of a random variable ?\n",
        ">* A probability distribution provides the probabilities of all possible outcomes of a random variable, allowing the calculation of the expected value, which represents the average outcome we expect in the long run."
      ],
      "metadata": {
        "id": "_ITY-_dlUtSw"
      }
    }
  ]
}